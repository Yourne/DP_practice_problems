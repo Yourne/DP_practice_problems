{
 "cells": [
  {
   "cell_type": "markdown",
   "id": "09e6093d-e995-41ed-88d3-a5b1e0f178aa",
   "metadata": {},
   "source": [
    "# Problem solved implementing dynamic programming \n",
    "A small collection of combinatorial optimization problems solved following the dynamic programming principle.\n",
    "The purpose of the notebook is to teach me and practice dynamic programming. \n",
    "\n",
    "Some problems were taken from https://www.geeksforgeeks.org/dynamic-programming/, some problems from P. Brandimarte *From Shortest Paths to Reinforcement Learning: A MATLAB-Based Introduction to Dynamic Programming*, Springer, 2021. The main ideas behind the solutions are taken from the latter book."
   ]
  },
  {
   "cell_type": "code",
   "execution_count": 91,
   "id": "742dc7eb-a8f8-488d-8bc2-5022309c2e6e",
   "metadata": {},
   "outputs": [],
   "source": [
    "import numpy as np\n",
    "# FIBONACCI\n",
    "n = 10\n",
    "states = np.arange(n) # states\n",
    "values = np.zeros(n, dtype=int) # \n",
    "values[0] = 0\n",
    "values[1] = 1\n",
    "for t in states[2:]:\n",
    "    values[t] = values[t-2] + values[t-1]"
   ]
  },
  {
   "cell_type": "code",
   "execution_count": 90,
   "id": "2a4c18bb-b6c2-4e15-9906-a30070bd2cb6",
   "metadata": {},
   "outputs": [
    {
     "data": {
      "text/plain": [
       "array([[ 0,  0,  0,  0,  0,  0,  0,  0],\n",
       "       [ 1,  0,  0,  0,  0,  0,  0,  0],\n",
       "       [ 5,  5,  0,  0,  0,  0,  0,  0],\n",
       "       [ 8,  8,  8,  0,  0,  0,  0,  0],\n",
       "       [10, 10,  9,  9,  0,  0,  0,  0],\n",
       "       [13, 13, 10, 10, 10,  0,  0,  0],\n",
       "       [17, 17, 17, 17, 17, 17,  0,  0],\n",
       "       [18, 18, 17, 17, 17, 17, 17,  0],\n",
       "       [22, 22, 20, 20, 20, 20, 20, 20],\n",
       "       [25, 25, 25, 20, 20, 20, 20, 20],\n",
       "       [27, 27, 26, 26, 20, 20, 20, 20]])"
      ]
     },
     "execution_count": 90,
     "metadata": {},
     "output_type": "execute_result"
    }
   ],
   "source": [
    "# CUTTING A ROD \n",
    "# find the combination of cuts that maximizes the profit \n",
    "\n",
    "rod_length = 10\n",
    "cut_lengths = np.array([1, 2, 3, 4, 5, 6, 7, 8], dtype=int)\n",
    "cut_prices = np.array([1, 5, 8, 9, 10, 17, 17, 20], dtype=int)\n",
    "\n",
    "value_table = np.zeros((rod_length + 1, len(cut_lengths)), dtype=int) # rod_length + 1 to include the maximum rod length as well\n",
    "decision_table = np.zeros((rod_length + 1, len(cut_lengths)), dtype=int) \n",
    "\n",
    "# initialization\n",
    "decision_table[:, len(cut_lengths)-1] = np.arange(rod_length + 1) // cut_lengths[-1]\n",
    "value_table = decision_table * cut_prices[len(cut_lengths) - 1] \n",
    "\n",
    "# algorithm\n",
    "for j in np.arange(len(cut_lengths))[-2::-1]: # from last to first cut length, skip last\n",
    "    for residual_length in np.arange(rod_length + 1): # i: state var: residual capcity\n",
    "        if residual_length < cut_lengths[j]:\n",
    "            value_table[residual_length, j] = value_table[residual_length, j+1]\n",
    "        elif value_table[residual_length, j+1] > value_table[residual_length - cut_lengths[j], j] + cut_prices[j]:\n",
    "            # il valore allo step precedente è maggiore di quella del passato a cui si è aggiunto l'oggetto corrent\n",
    "            # update value_table\n",
    "            value_table[residual_length, j] = value_table[residual_length, j+1]\n",
    "        else:\n",
    "            # value_table[residual_length - cut_lengths[j], j] + price >= di quello precedente\n",
    "            value_table[residual_length, j] = value_table[residual_length - cut_lengths[j], j] + cut_prices[j]\n",
    "            decision_table[residual_length, j] =+ 1\n",
    "\n",
    "value_table"
   ]
  },
  {
   "cell_type": "code",
   "execution_count": 93,
   "id": "c7148b6e-3242-4c56-8a07-4a63bfe7b591",
   "metadata": {},
   "outputs": [
    {
     "name": "stdout",
     "output_type": "stream",
     "text": [
      "1\n",
      "1\n",
      "5\n"
     ]
    },
    {
     "data": {
      "text/plain": [
       "27"
      ]
     },
     "execution_count": 93,
     "metadata": {},
     "output_type": "execute_result"
    }
   ],
   "source": [
    "number_of_cuts = len(cut_prices)\n",
    "residual_length = rod_length\n",
    "optimal_choice = np.zeros(number_of_cuts, dtype=int)\n",
    "\n",
    "while residual_length >= 0:\n",
    "    for j in range(number_of_cuts -1):\n",
    "        if value_table[residual_length, j] > value_table[residual_length, j+1]:\n",
    "            print(j)\n",
    "            optimal_choice[j] += 1\n",
    "            residual_length = residual_length - cut_lengths[j]\n",
    "    if residual_length == 0:\n",
    "        break\n",
    "\n",
    "# check is the solution coincides with that found in the value table\n",
    "np.dot(optimal_choice, cut_prices)"
   ]
  },
  {
   "cell_type": "markdown",
   "id": "1f4ac528-6a92-4286-a923-faaf6026bd37",
   "metadata": {},
   "source": [
    "# optimal budget allocation\n",
    "* we have three possible investments each one with its own continuous profit function.\n",
    "* find the optimal allocation of the given budget\n",
    "\n",
    "algorithm intuition\n",
    "1. Consider a portion b of the budget. b is the state variable.\n",
    "2. take the investment i and the last investment j.\n",
    "3. find the maximum profit investing b among i and its residue in j. store this value in the value matrix.\n",
    "\n",
    "Issues with continuous functions:\n",
    "* except the first and second investment where we already have function, we need to interpolate the values in `V[t+1]` to find the functions we need."
   ]
  },
  {
   "cell_type": "raw",
   "id": "a3ac4660-b909-4995-a06c-8ba4e831e710",
   "metadata": {},
   "source": [
    "# interpolation routines\n",
    "import numpy as np\n",
    "from scipy.interpolate import CubicSpline\n",
    "import matplotlib.pyplot as plt\n",
    "\n",
    "minimum, maximum = 0, 10\n",
    "n = 50\n",
    "interpolation_points = 1000\n",
    "\n",
    "data = np.linspace(minimum, maximum, n)\n",
    "\n",
    "def logit(x):\n",
    "    return 1 / (1 + np.exp(-x))\n",
    "\n",
    "x = np.linspace(minimum, maximum, interpolation_points)\n",
    "y_data = np.sqrt(data)\n",
    "\n",
    "y_linear_interp = np.interp(x, data, y_data)\n",
    "y_cubic_spline = CubicSpline(data, y_data)\n",
    "\n",
    "plt.plot(x, y_linear_interp, \"-.\", label=\"linear interpolation\")\n",
    "plt.plot(x, y_cubic_spline(x), \"--\", label=\"cubic spline\")\n",
    "plt.plot(data, y_data, 'o')\n",
    "plt.legend()\n",
    "plt.show()\n"
   ]
  },
  {
   "cell_type": "raw",
   "id": "318872f7-fbe6-4504-a851-bbb55aad05b7",
   "metadata": {},
   "source": [
    "y_true = np.sqrt(x)\n",
    "plt.plot(x, y_true - y_linear_interp, label=(\"linear inter error\"))\n",
    "plt.plot(x, y_true - y_cubic_spline, label=\"cubic spline error\")\n",
    "plt.legend()\n",
    "plt.title(\"interpolation errors evaluation\")\n",
    "plt.show()"
   ]
  },
  {
   "cell_type": "markdown",
   "id": "d5119d90-47b7-4072-accb-524456ad0df6",
   "metadata": {},
   "source": [
    "Such errors cannot be disregarded. we should arrange the data non evenly, with a higher degree of granularity between the 0 and 1"
   ]
  },
  {
   "cell_type": "code",
   "execution_count": 95,
   "id": "a7863853-16eb-46a2-a540-daa120fd4ce8",
   "metadata": {},
   "outputs": [],
   "source": [
    "from scipy.optimize import minimize_scalar\n",
    "from scipy.interpolate import CubicSpline\n",
    "import matplotlib.pyplot as plt\n",
    "\n",
    "# DATA\n",
    "profit_functions = [np.sqrt, np.sqrt, np.sqrt]\n",
    "number_investments = len(profit_functions)\n",
    "budget = 20\n",
    "number_grid_points = 50\n",
    "\n",
    "# INIT\n",
    "x = np.linspace(0, budget, number_grid_points) # states\n",
    "V = np.zeros((len(x), len(profit_functions))) # value table\n",
    "V[:, -1] = np.sqrt(x)\n",
    "\n",
    "# algorithm\n",
    "for j in np.arange(number_investments - 1)[::-1]:\n",
    "    # adesso devo costruire una nuova funzione con cui aggiornare V[j+1]\n",
    "    # così da incorporare anche i valori pregressi e fare un confronto 1 a 1\n",
    "    previous_step_profit_function = CubicSpline(x, V[:, j+1])\n",
    "    current_profit_function = profit_functions[j]\n",
    "    for i in range(len(x)):\n",
    "        budget = x[i] # current budget\n",
    "        objective_function = lambda x: - (current_profit_function(x) + previous_step_profit_function(budget - x))\n",
    "        res = minimize_scalar(objective_function, bounds=(0, budget))\n",
    "        V[i, j] = - res.fun"
   ]
  },
  {
   "cell_type": "code",
   "execution_count": 96,
   "id": "e84987b3-95d9-4be2-91fb-5168da902951",
   "metadata": {},
   "outputs": [
    {
     "data": {
      "text/plain": [
       "7.7459667609583684"
      ]
     },
     "execution_count": 96,
     "metadata": {},
     "output_type": "execute_result"
    }
   ],
   "source": [
    "V[-1, 0]"
   ]
  },
  {
   "cell_type": "markdown",
   "id": "57d510eb-b922-4dcb-ad31-00a0066277b7",
   "metadata": {},
   "source": [
    "`V[-1, 0]` is the best profit we can get with the optimal budget allocation. Yet, we do not know *how* to actually distribute te budget in the three investment. If I were to print `res.x`, I would find the optimal budget allocation between the two investments for each state of the budget, but this useless. \n",
    "\n",
    "What we actually need are the profit functions of `V[:, t]`, `t = 0, 1, 2`. For example, `V[:, 1]` is the best profit for each state of budget result of the maximum of the convex combination of the last investment and the second to last. The next cell shows what I mean"
   ]
  },
  {
   "cell_type": "code",
   "execution_count": 107,
   "id": "1f328f0f-27fc-450d-9058-75db4e20d83b",
   "metadata": {},
   "outputs": [
    {
     "data": {
      "image/png": "[encoded data removed]",
      "text/plain": [
       "<Figure size 640x480 with 1 Axes>"
      ]
     },
     "metadata": {},
     "output_type": "display_data"
    }
   ],
   "source": [
    "t = np.linspace(0, 1)\n",
    "b = budget\n",
    "plt.plot(x, V[:, 2], label=\"V[:, 2] = sqrt(b)\")\n",
    "plt.plot(x, V[:, 1], label=\"V[:, 1]\")\n",
    "plt.plot(x, np.sqrt(b*(1-t)) + np.sqrt(b*t), \":\", label=f\"sqrt({b}*(1-t)) + sqrt({b}*t)\")\n",
    "plt.xlabel(\"budget\")\n",
    "plt.legend()\n",
    "plt.show()"
   ]
  },
  {
   "cell_type": "markdown",
   "id": "14495439-e94c-4e7c-904b-c65976b1a4f9",
   "metadata": {},
   "source": [
    "The dotted line is the convex combination of two profit functions; its maximum coincides with the maximum of the `V[:, 1]`, that is the plot of the optimal distribution of budget between the two investments for given budget. As expected, the maximum value is an equal distribution of between the two.\n",
    "\n",
    "To solve actually get a solution, a policy, we need set of splines of the value function over the three investments."
   ]
  },
  {
   "cell_type": "code",
   "execution_count": 85,
   "id": "967f8283-8d91-44f8-bf2b-98d5edc63dfa",
   "metadata": {},
   "outputs": [],
   "source": [
    "from scipy.optimize import minimize_scalar\n",
    "\n",
    "profit_functions = [np.sqrt, np.sqrt, np.sqrt]\n",
    "number_investments = len(profit_functions)\n",
    "budget = 20\n",
    "number_grid_points = 50\n",
    "\n",
    "x = np.linspace(0, budget, number_grid_points) # states\n",
    "V = np.zeros((len(x), len(profit_functions))) # value table\n",
    "\n",
    "# init\n",
    "V[:, -1] = np.sqrt(x)\n",
    "\n",
    "splines_last_to_first = list()\n",
    "last_step_value_function = CubicSpline(x, V[:, -1])\n",
    "splines_last_to_first.append(last_step_value_function)\n",
    "\n",
    "for j in np.arange(number_investments - 1)[:0:-1]: # skip last profit function\n",
    "    for i in range(len(x)):\n",
    "        residual_budget = x[i] # current budget\n",
    "        objective_function = lambda x: - (profit_functions[j](x) + last_step_value_function(residual_budget - x))\n",
    "        res = minimize_scalar(objective_function, bounds=(0, residual_budget))\n",
    "        V[i, j] = - res.fun\n",
    "    last_step_value_function = CubicSpline(x, V[:, j])\n",
    "    splines_last_to_first.append(last_step_value_function)\n",
    "    \n",
    "splines = list(reversed(splines_last_to_first)) #  reverse the order because we are going to find the best policy in feed forward"
   ]
  },
  {
   "cell_type": "code",
   "execution_count": 86,
   "id": "0b7cb8c9-c7e7-43c2-9e0c-e3eaadc30ca4",
   "metadata": {},
   "outputs": [
    {
     "name": "stdout",
     "output_type": "stream",
     "text": [
      "[6.66665474 6.66665508 6.66669018]\n"
     ]
    }
   ],
   "source": [
    "# policy computation\n",
    "budget_distribution = np.zeros(number_investments) # the actual solution\n",
    "residual_budget = budget\n",
    "for j in range(number_investments-1):\n",
    "    objective_function = lambda x: - (profit_functions[j](x) + splines[j](residual_budget - x))\n",
    "    res = minimize_scalar(objective_function, bounds=(0, residual_budget))\n",
    "    budget_distribution[j] = res.x\n",
    "    residual_budget = residual_budget - res.x\n",
    "budget_distribution[-1] = residual_budget\n",
    "print(budget_distribution)"
   ]
  },
  {
   "cell_type": "code",
   "execution_count": 108,
   "id": "8d71b1ec-9f46-49e9-9628-2fda22f2cbd2",
   "metadata": {},
   "outputs": [
    {
     "data": {
      "text/plain": [
       "7.745966692408814"
      ]
     },
     "execution_count": 108,
     "metadata": {},
     "output_type": "execute_result"
    }
   ],
   "source": [
    "# check if the found solution is correct\n",
    "value = 0\n",
    "for b, f in zip(budget_distribution, profit_functions):\n",
    "    value += f(b)\n",
    "value"
   ]
  },
  {
   "cell_type": "markdown",
   "id": "0ec4b451-69e6-463c-bf2f-8266f5ee12af",
   "metadata": {},
   "source": [
    "# stochastic inventory control\n",
    "* demand is descrete and random $D$ -> $V$ is a matrix (no need of splines or other things)\n",
    "* state variable is the inventory; it has a maximum capacity $I_{max}$\n",
    "* inventory dynamics: \"lost sales\": $I_{t+1} = \\max(0, I_t + x_t - d_{t+1})$\n",
    "    1. observe the current inventory $I_t$\n",
    "    2. take decision: order quantity $x_t$\n",
    "    3. observe demand $d_{t+1}$. It is reasonable to consider the demand of the following time slot because we cannot observe the today demand\n",
    "    4. as a consequence, the decision space $X(I_t) = {0, 1, ..., I_{max} - I_t}$\n",
    "* for the sake of simplicty, the value of the last time slot is null, $F_T(I_T) = 0$\n",
    "* cost function\n",
    "    * cost to order $cx_t$\n",
    "    * accounting costs $\\beta(I_t + x_t - d_{t+1})^2$\n",
    "\n",
    "recursive value function\n",
    "$$ V_t(I_t) = \\min_{x \\in X(I_t)} E\\left[ cx_t + \\beta(I_t + x_t - d_{t+1})^2 + V(I_{t+1}) \\right] $$"
   ]
  },
  {
   "cell_type": "code",
   "execution_count": 88,
   "id": "5c650e23-7618-46f2-9661-4643c9bb7f93",
   "metadata": {},
   "outputs": [],
   "source": [
    "# DATA\n",
    "demand_probabilities = np.array([0.1, 0.3, 0.4, 0.1, 0.1])\n",
    "demand_values = np.array([1, 2, 3, 4, 5])\n",
    "T = 3 + 1 # plus one so to have times from 0 to T\n",
    "I_max = 2 + 1 # plus one so to have 0, 1, 2,... I_max otherwise we want consider null capacity\n",
    "beta = 1\n",
    "c = 1\n",
    "\n",
    "# INITIALIZATION\n",
    "V = np.zeros((I_max, T))\n",
    "A = np.zeros((I_max, T)) # quantity to order at time t given inventory level i\n",
    "\n",
    "# algorithm\n",
    "for t in np.arange(T-1)[::-1]:\n",
    "    for i in range(I_max):\n",
    "        min_value = np.inf\n",
    "        best_order = None\n",
    "        for x in range(I_max - i):\n",
    "            v = np.dot(c*x + beta * (i + x - demand_values) ** 2 + V[np.maximum(0, i + x - demand_values), t+1], demand_probabilities)\n",
    "            if v < min_value:\n",
    "                min_value = v\n",
    "                best_order = x\n",
    "        V[i, t] = min_value\n",
    "        A[i, t] = best_order"
   ]
  },
  {
   "cell_type": "code",
   "execution_count": 89,
   "id": "3b609cff-ac64-492a-a54a-695d330eba48",
   "metadata": {},
   "outputs": [
    {
     "name": "stdout",
     "output_type": "stream",
     "text": [
      "[[11.2  7.5  3.8  0. ]\n",
      " [10.2  6.5  2.8  0. ]\n",
      " [ 9.2  5.5  1.8  0. ]]\n",
      "[[2. 2. 2. 0.]\n",
      " [1. 1. 1. 0.]\n",
      " [0. 0. 0. 0.]]\n"
     ]
    }
   ],
   "source": [
    "print(V)\n",
    "print(A)"
   ]
  }
 ],
 "metadata": {
  "kernelspec": {
   "display_name": "Python 3 (ipykernel)",
   "language": "python",
   "name": "python3"
  },
  "language_info": {
   "codemirror_mode": {
    "name": "ipython",
    "version": 3
   },
   "file_extension": ".py",
   "mimetype": "text/x-python",
   "name": "python",
   "nbconvert_exporter": "python",
   "pygments_lexer": "ipython3",
   "version": "3.9.15"
  }
 },
 "nbformat": 4,
 "nbformat_minor": 5
}
